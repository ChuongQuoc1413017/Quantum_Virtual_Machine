{
 "cells": [
  {
   "cell_type": "markdown",
   "metadata": {},
   "source": [
    "https://www.kaggle.com/rakeshrau/social-network-ads"
   ]
  },
  {
   "cell_type": "code",
   "execution_count": 1,
   "metadata": {},
   "outputs": [],
   "source": [
    "import pandas as pd\n",
    "import numpy as np\n",
    "from qSUN.qCircuit import *\n",
    "from qSUN.qGATES import *\n",
    "from qSUN.qMEAS import *\n",
    "import time\n",
    "import math"
   ]
  },
  {
   "cell_type": "code",
   "execution_count": 2,
   "metadata": {},
   "outputs": [],
   "source": [
    "dataset = pd.read_csv('Social_Network_Ads.csv')\n",
    "X = dataset.iloc[:, 2:-1].values\n",
    "y = dataset.iloc[:, -1].values"
   ]
  },
  {
   "cell_type": "code",
   "execution_count": 3,
   "metadata": {},
   "outputs": [],
   "source": [
    "from sklearn.model_selection import train_test_split\n",
    "X_train, X_test, y_train, y_test = train_test_split(X, y, test_size = 0.2, random_state = 0)"
   ]
  },
  {
   "cell_type": "code",
   "execution_count": 4,
   "metadata": {},
   "outputs": [
    {
     "data": {
      "text/plain": [
       "array([0, 0, 0, 0, 0, 0, 0, 1, 0, 0, 0, 0, 0, 0, 0, 0, 0, 0, 1, 0, 0, 1,\n",
       "       0, 1, 0, 1, 0, 0, 0, 0, 0, 1, 1, 0, 0, 0, 0, 0, 0, 1, 0, 0, 0, 0,\n",
       "       1, 0, 0, 1, 0, 1, 1, 0, 0, 0, 1, 1, 0, 0, 1, 0, 0, 1, 0, 1, 0, 1,\n",
       "       0, 0, 0, 0, 1, 0, 0, 1, 0, 0, 0, 0, 1, 1], dtype=int64)"
      ]
     },
     "execution_count": 4,
     "metadata": {},
     "output_type": "execute_result"
    }
   ],
   "source": [
    "y_test"
   ]
  },
  {
   "cell_type": "code",
   "execution_count": 5,
   "metadata": {},
   "outputs": [],
   "source": [
    "from sklearn.preprocessing import MinMaxScaler"
   ]
  },
  {
   "cell_type": "code",
   "execution_count": 6,
   "metadata": {},
   "outputs": [],
   "source": [
    "scaler = MinMaxScaler()\n",
    "X_train = scaler.fit_transform(X_train)\n",
    "X_test = scaler.transform(X_test)"
   ]
  },
  {
   "cell_type": "code",
   "execution_count": 7,
   "metadata": {},
   "outputs": [
    {
     "name": "stdout",
     "output_type": "stream",
     "text": [
      "[0.95238095 0.95555556]\n"
     ]
    }
   ],
   "source": [
    "ampl_0 = np.sqrt(X_train[0][0])\n",
    "ampl_1 = np.sqrt(1-X_train[0][0])\n",
    "print(X_train[0])"
   ]
  },
  {
   "cell_type": "code",
   "execution_count": 8,
   "metadata": {},
   "outputs": [],
   "source": [
    "def sigmoid(x):\n",
    "    return 1 / (1 + math.exp(-x))\n",
    "\n",
    "def initial_state(sample):\n",
    "    circuit = Qubit(2)\n",
    "    ampl_0_0 = np.sqrt(sample[0])\n",
    "    ampl_0_1 = np.sqrt(1-sample[0])\n",
    "    ampl_1_0 = np.sqrt(sample[1])\n",
    "    ampl_1_1 = np.sqrt(1-sample[1])\n",
    "    circuit.amplitude = np.array([ampl_0_0*ampl_1_0, ampl_0_0*ampl_1_1, ampl_0_1*ampl_1_0, ampl_1_1*ampl_1_1])\n",
    "    return circuit\n",
    "\n",
    "def layer(circuit, params):\n",
    "    circuit_layer = circuit\n",
    "    RX(circuit_layer, 0, params[0][0])\n",
    "    RY(circuit_layer, 0, params[0][1])\n",
    "    RX(circuit_layer, 1, params[1][0])\n",
    "    RY(circuit_layer, 1, params[1][1])\n",
    "    CNOT(circuit_layer, 0, 1)\n",
    "    CNOT(circuit_layer, 1, 0)\n",
    "    return circuit_layer\n",
    "\n",
    "def qnn(sample, params, n_layer):\n",
    "    circuit_qnn = initial_state(sample)\n",
    "    for i in range(n_layer):\n",
    "        circuit_qnn = layer(circuit_qnn, params[i])\n",
    "    return circuit_qnn\n",
    "\n",
    "def predict(circuit):\n",
    "    prob_0 = measure_one(circuit, 0)\n",
    "    prob_1 = measure_one(circuit, 1)\n",
    "    exp_0 = prob_0[1]\n",
    "    exp_1 = prob_1[1]\n",
    "    if sigmoid(exp_0) > sigmoid(exp_1):\n",
    "        return 1\n",
    "    else:\n",
    "        return 0\n",
    "    \n",
    "def square_loss(labels, predictions):\n",
    "    loss = 0\n",
    "    for l, p in zip(labels, predictions):\n",
    "        loss = loss + (l - p) ** 2\n",
    "    loss = loss / len(labels)\n",
    "    return loss\n",
    "\n",
    "def cost(params, n_layer, features, labels):\n",
    "    preds = [predict(qnn(x, params, n_layer)) for x in features]\n",
    "    return square_loss(labels, preds)\n",
    "\n",
    "def grad(X_true, y_true, params, n_layer, shift, eta):\n",
    "    for i in range(len(params)):\n",
    "        for j in range(len(params[i])):\n",
    "            for k in range(len(params[i][j])):\n",
    "                params_1 = params.copy()\n",
    "                params_2 = params.copy()\n",
    "                params_1[i][j][k] += shift\n",
    "                params_2[i][j][k] -= shift\n",
    "                diff[i][j][k] = (cost(params_1, n_layer, X_true, y_true)\n",
    "                                 -cost(params_2, n_layer, X_true, y_true))/(2*np.sin(shift))\n",
    "                    \n",
    "    for i in range(len(params)):\n",
    "        for j in range(len(params[i])):\n",
    "            for k in range(len(params[i][j])):\n",
    "                params[i][j][k] = params[i][j][k] - eta*diff[i][j][k]\n",
    "                \n",
    "    return params"
   ]
  },
  {
   "cell_type": "code",
   "execution_count": 9,
   "metadata": {},
   "outputs": [
    {
     "data": {
      "text/plain": [
       "array([0.95238095, 0.04761905])"
      ]
     },
     "execution_count": 9,
     "metadata": {},
     "output_type": "execute_result"
    }
   ],
   "source": [
    "circuit = initial_state(X_train[0])\n",
    "measure_one(circuit, 0)"
   ]
  },
  {
   "cell_type": "code",
   "execution_count": 19,
   "metadata": {},
   "outputs": [],
   "source": [
    "n_layer = 3\n",
    "params = np.random.normal(size=(n_layer, 2, 2,))\n",
    "diff = np.zeros((n_layer, 2, 2,))"
   ]
  },
  {
   "cell_type": "code",
   "execution_count": 20,
   "metadata": {},
   "outputs": [
    {
     "data": {
      "text/plain": [
       "0.378125"
      ]
     },
     "execution_count": 20,
     "metadata": {},
     "output_type": "execute_result"
    }
   ],
   "source": [
    "cost(params, n_layer, X_train, y_train)"
   ]
  },
  {
   "cell_type": "code",
   "execution_count": 21,
   "metadata": {},
   "outputs": [],
   "source": [
    "start = time.time()\n",
    "for i in range(100):\n",
    "    params = grad(X_train, y_train, params, n_layer, np.pi/20, eta=0.01)\n",
    "end = time.time() "
   ]
  },
  {
   "cell_type": "code",
   "execution_count": 22,
   "metadata": {},
   "outputs": [
    {
     "data": {
      "text/plain": [
       "0.234375"
      ]
     },
     "execution_count": 22,
     "metadata": {},
     "output_type": "execute_result"
    }
   ],
   "source": [
    "cost(params, n_layer, X_train, y_train)"
   ]
  },
  {
   "cell_type": "code",
   "execution_count": 23,
   "metadata": {},
   "outputs": [
    {
     "data": {
      "text/plain": [
       "0.2"
      ]
     },
     "execution_count": 23,
     "metadata": {},
     "output_type": "execute_result"
    }
   ],
   "source": [
    "cost(params, n_layer, X_test, y_test)"
   ]
  },
  {
   "cell_type": "code",
   "execution_count": 24,
   "metadata": {},
   "outputs": [],
   "source": [
    "from sklearn.metrics import confusion_matrix\n",
    "import seaborn as sn"
   ]
  },
  {
   "cell_type": "code",
   "execution_count": 27,
   "metadata": {},
   "outputs": [
    {
     "data": {
      "text/plain": [
       "<matplotlib.axes._subplots.AxesSubplot at 0x2bacbabe5c8>"
      ]
     },
     "execution_count": 27,
     "metadata": {},
     "output_type": "execute_result"
    },
    {
     "data": {
      "image/png": "[encoded data removed]",
      "text/plain": [
       "<Figure size 432x288 with 2 Axes>"
      ]
     },
     "metadata": {
      "needs_background": "light"
     },
     "output_type": "display_data"
    }
   ],
   "source": [
    "label = y_train\n",
    "pred = [predict(qnn(x, params, n_layer)) for x in X_train]\n",
    "con = confusion_matrix(label,pred)\n",
    "sn.heatmap(con, annot=True, cmap=\"Blues\")"
   ]
  },
  {
   "cell_type": "code",
   "execution_count": 35,
   "metadata": {},
   "outputs": [
    {
     "name": "stdout",
     "output_type": "stream",
     "text": [
      "121 199\n"
     ]
    }
   ],
   "source": [
    "print(sum(y_train==1), sum(y_train==0))"
   ]
  },
  {
   "cell_type": "code",
   "execution_count": 28,
   "metadata": {},
   "outputs": [
    {
     "data": {
      "text/plain": [
       "<matplotlib.axes._subplots.AxesSubplot at 0x2bacbb55dc8>"
      ]
     },
     "execution_count": 28,
     "metadata": {},
     "output_type": "execute_result"
    },
    {
     "data": {
      "image/png": "[encoded data removed]",
      "text/plain": [
       "<Figure size 432x288 with 2 Axes>"
      ]
     },
     "metadata": {
      "needs_background": "light"
     },
     "output_type": "display_data"
    }
   ],
   "source": [
    "label = y_test\n",
    "pred = [predict(qnn(x, params, n_layer)) for x in X_test]\n",
    "con = confusion_matrix(label,pred)\n",
    "sn.heatmap(con, annot=True, cmap=\"Blues\")"
   ]
  },
  {
   "cell_type": "code",
   "execution_count": 34,
   "metadata": {},
   "outputs": [
    {
     "name": "stdout",
     "output_type": "stream",
     "text": [
      "22 58\n"
     ]
    }
   ],
   "source": [
    "print(sum(y_test==1), sum(y_test==0))"
   ]
  },
  {
   "cell_type": "code",
   "execution_count": 36,
   "metadata": {},
   "outputs": [],
   "source": [
    "from sklearn.neural_network import MLPClassifier"
   ]
  },
  {
   "cell_type": "code",
   "execution_count": 42,
   "metadata": {},
   "outputs": [
    {
     "name": "stderr",
     "output_type": "stream",
     "text": [
      "C:\\Users\\ASUS\\anaconda3\\lib\\site-packages\\sklearn\\neural_network\\_multilayer_perceptron.py:585: ConvergenceWarning: Stochastic Optimizer: Maximum iterations (200) reached and the optimization hasn't converged yet.\n",
      "  % self.max_iter, ConvergenceWarning)\n"
     ]
    }
   ],
   "source": [
    "clf = MLPClassifier(hidden_layer_sizes=(100,), activation='logistic').fit(X_train, y_train)"
   ]
  },
  {
   "cell_type": "code",
   "execution_count": 43,
   "metadata": {},
   "outputs": [
    {
     "data": {
      "text/plain": [
       "<matplotlib.axes._subplots.AxesSubplot at 0x2bacbdaf9c8>"
      ]
     },
     "execution_count": 43,
     "metadata": {},
     "output_type": "execute_result"
    },
    {
     "data": {
      "image/png": "[encoded data removed]",
      "text/plain": [
       "<Figure size 432x288 with 2 Axes>"
      ]
     },
     "metadata": {
      "needs_background": "light"
     },
     "output_type": "display_data"
    }
   ],
   "source": [
    "label = y_test\n",
    "pred = clf.predict(X_test)\n",
    "con = confusion_matrix(label,pred)\n",
    "sn.heatmap(con, annot=True, cmap=\"Blues\")"
   ]
  },
  {
   "cell_type": "code",
   "execution_count": 45,
   "metadata": {},
   "outputs": [
    {
     "data": {
      "text/plain": [
       "7"
      ]
     },
     "execution_count": 45,
     "metadata": {},
     "output_type": "execute_result"
    }
   ],
   "source": [
    "sum((label==1) & (pred==0))"
   ]
  },
  {
   "cell_type": "markdown",
   "metadata": {},
   "source": [
    "# QNN "
   ]
  },
  {
   "cell_type": "code",
   "execution_count": 47,
   "metadata": {},
   "outputs": [
    {
     "data": {
      "text/plain": [
       "<matplotlib.axes._subplots.AxesSubplot at 0x2bacbe6e408>"
      ]
     },
     "execution_count": 47,
     "metadata": {},
     "output_type": "execute_result"
    },
    {
     "data": {
      "image/png": "[encoded data removed]",
      "text/plain": [
       "<Figure size 432x288 with 2 Axes>"
      ]
     },
     "metadata": {
      "needs_background": "light"
     },
     "output_type": "display_data"
    }
   ],
   "source": [
    "# import libraries\n",
    "from qSUN.qCircuit import *\n",
    "from qSUN.qGATES import *\n",
    "from qSUN.qMEAS import *\n",
    "from sklearn.model_selection import train_test_split\n",
    "from sklearn.preprocessing import MinMaxScaler\n",
    "from sklearn.metrics import confusion_matrix\n",
    "import seaborn as sn\n",
    "\n",
    "# activation function\n",
    "def sigmoid(x):\n",
    "    return 1 / (1 + math.exp(-x))\n",
    "\n",
    "# encoding the features\n",
    "def initial_state(sample):\n",
    "    circuit = Qubit(2)\n",
    "    ampl_0_0 = np.sqrt(sample[0])\n",
    "    ampl_0_1 = np.sqrt(1-sample[0])\n",
    "    ampl_1_0 = np.sqrt(sample[1])\n",
    "    ampl_1_1 = np.sqrt(1-sample[1])\n",
    "    circuit.amplitude = np.array([ampl_0_0*ampl_1_0, ampl_0_0*ampl_1_1, ampl_0_1*ampl_1_0, ampl_1_1*ampl_1_1])\n",
    "    return circuit\n",
    "\n",
    "# one layer with full entanglement\n",
    "def layer(circuit, params):\n",
    "    circuit_layer = circuit\n",
    "    RX(circuit_layer, 0, params[0][0])\n",
    "    RY(circuit_layer, 0, params[0][1])\n",
    "    RX(circuit_layer, 1, params[1][0])\n",
    "    RY(circuit_layer, 1, params[1][1])\n",
    "    CNOT(circuit_layer, 0, 1)\n",
    "    CNOT(circuit_layer, 1, 0)\n",
    "    return circuit_layer\n",
    "\n",
    "# the whole QNN\n",
    "def qnn(sample, params):\n",
    "    n_layer = len(params)\n",
    "    circuit_qnn = initial_state(sample)\n",
    "    for i in range(n_layer):\n",
    "        circuit_qnn = layer(circuit_qnn, params[i])\n",
    "    return circuit_qnn\n",
    "\n",
    "# make a prediction\n",
    "def predict(circuit):\n",
    "    prob_0 = measure_one(circuit, 0)\n",
    "    prob_1 = measure_one(circuit, 1)\n",
    "    exp_0 = prob_0[1]\n",
    "    exp_1 = prob_1[1]\n",
    "    if sigmoid(exp_0) > sigmoid(exp_1):\n",
    "        return 1\n",
    "    else:\n",
    "        return 0\n",
    "\n",
    "# loss function    \n",
    "def square_loss(labels, predictions):\n",
    "    loss = 0\n",
    "    for l, p in zip(labels, predictions):\n",
    "        loss = loss + (l - p) ** 2\n",
    "    loss = loss / len(labels)\n",
    "    return loss\n",
    "\n",
    "# loss function of QNN\n",
    "def cost(params, features, labels):\n",
    "    preds = [predict(qnn(x, params)) for x in features]\n",
    "    return square_loss(labels, preds)\n",
    "\n",
    "# gradient descent with QDP\n",
    "def grad(X_true, y_true, params, shift, eta):\n",
    "    for i in range(len(params)):\n",
    "        for j in range(len(params[i])):\n",
    "            for k in range(len(params[i][j])):\n",
    "                params_1 = params.copy()\n",
    "                params_2 = params.copy()\n",
    "                params_1[i][j][k] += shift\n",
    "                params_2[i][j][k] -= shift\n",
    "                diff[i][j][k] = (cost(params_1, X_true, y_true)\n",
    "                                 -cost(params_2, X_true, y_true))/(2*np.sin(shift))\n",
    "                    \n",
    "    for i in range(len(params)):\n",
    "        for j in range(len(params[i])):\n",
    "            for k in range(len(params[i][j])):\n",
    "                params[i][j][k] = params[i][j][k] - eta*diff[i][j][k]\n",
    "                \n",
    "    return params\n",
    "\n",
    "# create parameters  \n",
    "n_layer = 3\n",
    "params = np.random.normal(size=(n_layer, 2, 2,))\n",
    "diff = np.zeros((n_layer, 2, 2,))\n",
    "\n",
    "#source: https://www.kaggle.com/rakeshrau/social-network-ads\n",
    "dataset = pd.read_csv('Social_Network_Ads.csv')\n",
    "X = dataset.iloc[:, 2:-1].values\n",
    "y = dataset.iloc[:, -1].values\n",
    "\n",
    "# splitting dataset\n",
    "X_train, X_test, y_train, y_test = train_test_split(X, y, test_size = 0.2, random_state = 0)\n",
    "\n",
    "# scaling feature\n",
    "scaler = MinMaxScaler()\n",
    "X_train = scaler.fit_transform(X_train)\n",
    "X_test = scaler.transform(X_test)\n",
    "\n",
    "# training model\n",
    "for i in range(100):\n",
    "    params = grad(X_train, y_train, params, np.pi/20, eta=0.01)\n",
    "\n",
    "# confusion matrix\n",
    "label = y_train\n",
    "pred = [predict(qnn(x, params)) for x in X_train]\n",
    "con = confusion_matrix(label,pred)\n",
    "sn.heatmap(con, annot=True, cmap=\"Blues\")"
   ]
  },
  {
   "cell_type": "code",
   "execution_count": 50,
   "metadata": {},
   "outputs": [
    {
     "data": {
      "text/plain": [
       "<matplotlib.axes._subplots.AxesSubplot at 0x2bacbf90208>"
      ]
     },
     "execution_count": 50,
     "metadata": {},
     "output_type": "execute_result"
    },
    {
     "data": {
      "image/png": "[encoded data removed]",
      "text/plain": [
       "<Figure size 432x288 with 2 Axes>"
      ]
     },
     "metadata": {
      "needs_background": "light"
     },
     "output_type": "display_data"
    }
   ],
   "source": [
    "label = y_test\n",
    "pred = [predict(qnn(x, params)) for x in X_test]\n",
    "con = confusion_matrix(label,pred)\n",
    "sn.heatmap(con, annot=True, cmap=\"Blues\")"
   ]
  },
  {
   "cell_type": "code",
   "execution_count": null,
   "metadata": {},
   "outputs": [],
   "source": []
  }
 ],
 "metadata": {
  "kernelspec": {
   "display_name": "Python 3",
   "language": "python",
   "name": "python3"
  },
  "language_info": {
   "codemirror_mode": {
    "name": "ipython",
    "version": 3
   },
   "file_extension": ".py",
   "mimetype": "text/x-python",
   "name": "python",
   "nbconvert_exporter": "python",
   "pygments_lexer": "ipython3",
   "version": "3.7.6"
  }
 },
 "nbformat": 4,
 "nbformat_minor": 4
}
