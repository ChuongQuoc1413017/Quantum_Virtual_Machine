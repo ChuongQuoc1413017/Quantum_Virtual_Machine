{
 "cells": [
  {
   "cell_type": "markdown",
   "metadata": {},
   "source": [
    "https://towardsdatascience.com/differentiable-programming-from-scratch-abba0ebebc1c\n",
    "\n",
    "https://marksaroufim.medium.com/automatic-differentiation-step-by-step-24240f97a6e6\n",
    "\n",
    "https://towardsdatascience.com/automatic-differentiation-explained-b4ba8e60c2ad"
   ]
  },
  {
   "cell_type": "markdown",
   "metadata": {},
   "source": [
    "# Automatic Differentiation"
   ]
  },
  {
   "cell_type": "code",
   "execution_count": 1,
   "metadata": {},
   "outputs": [],
   "source": [
    "from __future__ import division\n",
    "\n",
    "class DualFloat:\n",
    "    def __init__(self, x=0, x_p=0):\n",
    "        self.x = x\n",
    "        self.x_p = x_p\n",
    "\n",
    "    def __str__(self):\n",
    "        return \"DF({0}, {1})\".format(self.x, self.x_p)\n",
    "\n",
    "    def convert(self, x):\n",
    "        if isinstance(x, int) or isinstance(x, float):\n",
    "            return DualFloat(x, 0.0)\n",
    "        elif isinstance(x, DualFloat):\n",
    "            return x\n",
    "        raise Exception(f\"Type {type(x)} not supported\")\n",
    "\n",
    "    def __add__(self, other):\n",
    "        other = self.convert(other)\n",
    "        x = self.x + other.x\n",
    "        x_p = self.x_p + other.x_p\n",
    "        return DualFloat(x, x_p)\n",
    "\n",
    "    def __sub__(self, other):\n",
    "        other = self.convert(other)\n",
    "        x = self.x - other.x\n",
    "        x_p = self.x_p - other.x_p\n",
    "        return DualFloat(x, x_p)\n",
    "\n",
    "    def __mul__(self, other):\n",
    "        other = self.convert(other)\n",
    "        x = self.x * other.x\n",
    "        x_p = self.x_p * other.x + self.x * other.x_p\n",
    "        return DualFloat(x, x_p)\n",
    "\n",
    "    def __truediv__(self, other):\n",
    "        other = self.convert(other)\n",
    "        x = self.x / other.x\n",
    "        x_p = (self.x_p * other.x - self.x * other.x_p) / other.x**2\n",
    "        return DualFloat(x, x_p)\n",
    "\n",
    "    def __pow__(self, other):\n",
    "        if not (isinstance(other, int) or isinstance(other, float)):\n",
    "            raise Exception(f\"Type {type(x)} not supported\")\n",
    "        x = self.x**other\n",
    "        x_p = other * self.x_p * self.x**(other-1)\n",
    "        return DualFloat(x, x_p)\n",
    "\n",
    "    def __float__(self):\n",
    "        return float(self.x)\n",
    "\n",
    "    def value(self):\n",
    "        return self.x\n",
    "\n",
    "    def derivative(self):\n",
    "        return self.x_p"
   ]
  },
  {
   "cell_type": "code",
   "execution_count": 2,
   "metadata": {},
   "outputs": [
    {
     "name": "stdout",
     "output_type": "stream",
     "text": [
      "DF(48.0, 24.0)\n",
      "20.0\n",
      "20.0\n"
     ]
    }
   ],
   "source": [
    "def simple_polynome(a, b):\n",
    "    return lambda x : x**2 * a + b\n",
    "\n",
    "def squared_polynome(a, b, c):\n",
    "    return lambda x : x**2 * a + x * b + c\n",
    "\n",
    "def squared_polynome_check(a, b, c):\n",
    "    return lambda x : 2*x * a + b\n",
    "\n",
    "f1 = simple_polynome(3.0, 0.0)\n",
    "f2 = squared_polynome(3.0, 2.0, 1.0)\n",
    "f3 = squared_polynome_check(3.0, 2.0, 1.0)\n",
    "\n",
    "r = f1(DualFloat(4, 1.0))\n",
    "print(r)\n",
    "\n",
    "r = f2(DualFloat(3, 1.0))\n",
    "check = f3(3)\n",
    "\n",
    "print(r.derivative())\n",
    "print(check)\n"
   ]
  },
  {
   "cell_type": "code",
   "execution_count": 3,
   "metadata": {},
   "outputs": [
    {
     "name": "stdout",
     "output_type": "stream",
     "text": [
      "DF(0.0625, -0.03125)\n"
     ]
    }
   ],
   "source": [
    "def simple_fraction(a, b):\n",
    "    return lambda x : DualFloat(a, 0)/x**2 + b\n",
    "\n",
    "f1 = simple_fraction(1.0, 0.0)\n",
    "r = f1(DualFloat(4.0, 1.0))\n",
    "print(r)"
   ]
  },
  {
   "cell_type": "markdown",
   "metadata": {},
   "source": [
    "## Using Gradient Descent and Automatic Differentiation to find  $x$ where  $y = -3 $ and  $y =2x^{2} + x -3$ "
   ]
  },
  {
   "cell_type": "code",
   "execution_count": 4,
   "metadata": {},
   "outputs": [
    {
     "name": "stdout",
     "output_type": "stream",
     "text": [
      "new avg:  DF(0.4658910531638176, 1.0)\n"
     ]
    }
   ],
   "source": [
    "import matplotlib.pyplot as plt\n",
    "import numpy as np\n",
    "\n",
    "f2 = squared_polynome(2.0, 1.0, -3.0)\n",
    "y_true = DualFloat(-2.1)\n",
    "\n",
    "def polynome(x):\n",
    "    return f2(x)\n",
    "\n",
    "def errors(value):\n",
    "    y_pred = polynome(value)\n",
    "    return y_true - y_pred\n",
    "\n",
    "x_avg = DualFloat(0.3, 1.0)\n",
    "for i in range(0,1000):\n",
    "    error = errors(x_avg)**2\n",
    "    diff = error.derivative()\n",
    "    x_avg = x_avg - diff * 0.05\n",
    "print('new avg: ', x_avg)"
   ]
  },
  {
   "cell_type": "markdown",
   "metadata": {},
   "source": [
    "# Quantum Differentiable Programming (QDP)"
   ]
  },
  {
   "cell_type": "markdown",
   "metadata": {},
   "source": [
    "## Using Gradient Descent and Quantum Automatic Differentiation to find  $x$ where  $y = -2.1 $ and  $y =2x^{2} + x -3$ "
   ]
  },
  {
   "cell_type": "markdown",
   "metadata": {},
   "source": [
    "## Shift rule:\n",
    "## <center>$\\frac{\\partial}{\\partial \\theta} f(\\theta) = \\frac{f(\\theta + s) - f(\\theta - s)}{2 \\sin(s)}$</center>"
   ]
  },
  {
   "cell_type": "markdown",
   "metadata": {},
   "source": [
    "https://pennylane.ai/qml/glossary/parameter_shift.html"
   ]
  },
  {
   "cell_type": "code",
   "execution_count": 5,
   "metadata": {},
   "outputs": [],
   "source": [
    "from QVM.qvm_circuit import *\n",
    "from QVM.qvm_gate import *\n",
    "import random"
   ]
  },
  {
   "cell_type": "code",
   "execution_count": 6,
   "metadata": {},
   "outputs": [],
   "source": [
    "def polynome(state, prob):\n",
    "    x = (2*int(state[0])-1)*prob[0]/2 + (2*int(state[1])-1)*prob[1]/2\n",
    "#     return 2*x**2 + x -3\n",
    "    return np.sin(x)- x**2\n",
    "\n",
    "def errors(y_true, state, prob):\n",
    "    y_pred = polynome(state, prob)\n",
    "    return abs(y_true - y_pred)**2\n",
    "\n",
    "def random_float(low, high):\n",
    "    return random.random()*(high-low) + low"
   ]
  },
  {
   "cell_type": "code",
   "execution_count": 7,
   "metadata": {},
   "outputs": [
    {
     "name": "stdout",
     "output_type": "stream",
     "text": [
      "new result:  -0.19981336127741667 -0.1713046728024486 2921\n"
     ]
    }
   ],
   "source": [
    "y_true = -0.2\n",
    "phi = random_float(0.1, np.pi-0.2)\n",
    "n = 1\n",
    "\n",
    "c = Qubit(n)\n",
    "RY(c, 0, phi)\n",
    "\n",
    "result = polynome(c.state, c.probabilities())\n",
    "m = 0\n",
    "\n",
    "while abs(result - y_true) > 1e-3:\n",
    "    c1 = Qubit(n)\n",
    "    c2 = Qubit(n)\n",
    "\n",
    "    RY(c1, 0, phi+np.pi/20)\n",
    "    RY(c2, 0, phi-np.pi/20)\n",
    "\n",
    "    diff = (errors(y_true, c1.state, c1.probabilities())-errors(y_true, c2.state, c2.probabilities()))/(2*np.sin(np.pi/20))\n",
    "    phi = phi - diff * 1e+13%(2*np.pi)\n",
    "\n",
    "    c = Qubit(n)\n",
    "    RY(c, 0, phi)\n",
    "    result = polynome(c.state, c.probabilities())\n",
    "    state = c.state\n",
    "    prob = c.probabilities()\n",
    "    m += 1\n",
    "\n",
    "print('new result: ',result, \n",
    "      (2*int(state[0])-1)*prob[0]/2 + (2*int(state[1])-1)*prob[1]/2, m)"
   ]
  },
  {
   "cell_type": "code",
   "execution_count": 8,
   "metadata": {},
   "outputs": [],
   "source": [
    "# for j in np.linspace(0.1, np.pi-0.2):\n",
    "#     phi = j\n",
    "#     y_true = -2.3\n",
    "#     n = 1\n",
    "\n",
    "#     c = Qubit(n)\n",
    "#     RY(c, 0, phi)\n",
    "\n",
    "#     result = polynome(c.state, c.probabilities())\n",
    "#     m = 0\n",
    "\n",
    "#     while abs(result - y_true) > 1e-3:\n",
    "# #     for i in range(10000):\n",
    "#         c_1 = Qubit(n)\n",
    "#         c_2 = Qubit(n)\n",
    "\n",
    "#         RY(c_1, 0, phi+np.pi/20)\n",
    "#         RY(c_2, 0, phi-np.pi/20)\n",
    "\n",
    "#         diff = (errors(y_true, c_1.state, c_1.probabilities())-errors(y_true, c_2.state, c_2.probabilities()))/(2*np.pi/20)\n",
    "\n",
    "#         phi = phi - diff * 1e+13\n",
    "\n",
    "#         c = Qubit(n)\n",
    "#         RY(c, 0, phi)\n",
    "#         result = polynome(c.state, c.probabilities())\n",
    "#         state = c.state\n",
    "#         prob = c.probabilities()\n",
    "#         m += 1\n",
    "# #         if abs(result - y_true) < 1e-3:\n",
    "# #             break\n",
    "\n",
    "#     print('new result: ',result, \n",
    "#           (2*int(state[0])-1)*prob[0]/2 + (2*int(state[1])-1)*prob[1]/2, j/np.pi, m)"
   ]
  },
  {
   "cell_type": "code",
   "execution_count": 9,
   "metadata": {},
   "outputs": [],
   "source": [
    "# for j in np.linspace(0.1, np.pi-0.2):\n",
    "#     phi = j\n",
    "#     y_true = -2.3\n",
    "#     n = 1\n",
    "\n",
    "#     c = Qubit(n)\n",
    "#     RY(c, 0, phi)\n",
    "\n",
    "#     result = polynome(c.state, c.probabilities())\n",
    "#     m = 0\n",
    "\n",
    "#     while abs(result - y_true) > 1e-3:\n",
    "# #     for i in range(10000):\n",
    "#         c_1 = Qubit(n)\n",
    "#         c_2 = Qubit(n)\n",
    "\n",
    "#         RY(c_1, 0, phi+np.pi/20)\n",
    "#         RY(c_2, 0, phi-np.pi/20)\n",
    "\n",
    "#         diff = (errors(y_true, c_1.state, c_1.probabilities())-errors(y_true, c_2.state, c_2.probabilities()))/(2*np.sin(np.pi/20))\n",
    "\n",
    "#         phi = phi - diff * 1e+13\n",
    "\n",
    "#         c = Qubit(n)\n",
    "#         RY(c, 0, phi)\n",
    "#         result = polynome(c.state, c.probabilities())\n",
    "#         state = c.state\n",
    "#         prob = c.probabilities()\n",
    "#         m += 1\n",
    "# #         if abs(result - y_true) < 1e-3:\n",
    "# #             break\n",
    "\n",
    "#     print('new result: ',result, \n",
    "#           (2*int(state[0])-1)*prob[0]/2 + (2*int(state[1])-1)*prob[1]/2, j/np.pi, m)"
   ]
  },
  {
   "cell_type": "markdown",
   "metadata": {},
   "source": [
    "## Ising model "
   ]
  },
  {
   "cell_type": "markdown",
   "metadata": {},
   "source": [
    "Caculate expectataion energy of Hamiltonian\n",
    "\n",
    "$ <E> = \\sum_{z} P(z) E(z) $ for $ z \\in \\{ 0, 1 \\}^{n} $\n",
    "\n",
    "$ E = - J\\sum_{i}^{n-1} s^{z}_{i} s^{z}_{i+1} - h\\sum_{i}^{n} s^{z}_{i} $ \n",
    "with $ s^{z}_{i} = 1 $ for $ z_{i} = 0 $ and $ s^{z}_{i} = - 1 $ for $ z_{i} = 1 $"
   ]
  },
  {
   "cell_type": "code",
   "execution_count": 10,
   "metadata": {},
   "outputs": [],
   "source": [
    "def energy(state, h, J):\n",
    "    # (x-0.5)*2 map [0, 1] to [1, -1]\n",
    "    energy = 2*h*(int(state[-1])-0.5)\n",
    "    for i in range(len(state)-1):\n",
    "        energy += J*(int(state[i])-0.5)*(int(state[i+1])-0.5)*4 + 2*h*(int(state[i])-0.5)\n",
    "    return -energy\n",
    "\n",
    "def expectation_energy(wavefunction, h, J):\n",
    "\n",
    "    states = wavefunction.state\n",
    "    prob = wavefunction.probabilities()\n",
    "    expect = 0\n",
    "    for i in range(len(states)):\n",
    "        expect += prob[i]*energy(states[i], h, J)\n",
    "    return expect"
   ]
  },
  {
   "cell_type": "markdown",
   "metadata": {},
   "source": [
    "https://qiskit.org/textbook/ch-applications/vqe-molecules.html"
   ]
  },
  {
   "cell_type": "code",
   "execution_count": 11,
   "metadata": {},
   "outputs": [],
   "source": [
    "def ising_circuit(phi_1, phi_2):\n",
    "    '''Linear Entanglement, deep = 1'''\n",
    "    c = Qubit(4)\n",
    "\n",
    "    RY(c, 0, phi_1[0])\n",
    "    RY(c, 1, phi_1[1])\n",
    "    RY(c, 2, phi_1[2])\n",
    "    RY(c, 3, phi_1[3])\n",
    "\n",
    "    RZ(c, 0, phi_2[0])\n",
    "    RZ(c, 1, phi_2[1])\n",
    "    RZ(c, 2, phi_2[2])\n",
    "    RZ(c, 3, phi_2[3])\n",
    "\n",
    "    CNOT(c, 0, 1)\n",
    "    CNOT(c, 1, 2)\n",
    "    CNOT(c, 2, 3)\n",
    "    \n",
    "    return c"
   ]
  },
  {
   "cell_type": "code",
   "execution_count": 12,
   "metadata": {},
   "outputs": [],
   "source": [
    "def errors(y_true, wavefunction, h, J):\n",
    "    y_pred = expectation_energy(wavefunction, h, J)\n",
    "    return abs(y_true - y_pred)**2"
   ]
  },
  {
   "cell_type": "code",
   "execution_count": 13,
   "metadata": {},
   "outputs": [],
   "source": [
    "h = 0.05\n",
    "J = 1"
   ]
  },
  {
   "cell_type": "code",
   "execution_count": 18,
   "metadata": {},
   "outputs": [],
   "source": [
    "import matplotlib.pyplot as plt\n",
    "\n",
    "def ising_QDP(y_true, h, J, epsilon):\n",
    "    \n",
    "    y_true = y_true\n",
    "    phi_1 = np.array([random_float(0.2, np.pi-0.2), random_float(0.2, np.pi-0.2),\n",
    "                      random_float(0.2, np.pi-0.2), random_float(0.2, np.pi-0.2)])\n",
    "    phi_2 = np.array([random_float(0.2, np.pi-0.2), random_float(0.2, np.pi-0.2),\n",
    "                      random_float(0.2, np.pi-0.2), random_float(0.2, np.pi-0.2)])\n",
    "\n",
    "    c = ising_circuit(phi_1, phi_2)\n",
    "    result = expectation_energy(c, h, J)\n",
    "\n",
    "    m = 0\n",
    "    diff_1 = [0, 0, 0, 0]\n",
    "    diff_2 = [0, 0, 0, 0]\n",
    "\n",
    "    while abs(result - y_true) > epsilon:\n",
    "        # for i in range(30):\n",
    "\n",
    "        for i in range(4):\n",
    "            n_phi_1_1 = phi_1.copy()\n",
    "            n_phi_1_2 = phi_1.copy()\n",
    "            n_phi_1_1[i] += np.pi/20\n",
    "            n_phi_1_2[i] -= np.pi/20\n",
    "            c1 = ising_circuit(n_phi_1_1, phi_2)\n",
    "            c2 = ising_circuit(n_phi_1_2, phi_2)\n",
    "            diff_1[i] = (errors(y_true, c1, h, J)-errors(y_true, c2, h, J))/(2*np.sin(np.pi/20))\n",
    "\n",
    "        for i in range(4):        \n",
    "            n_phi_2_1 = phi_2.copy()\n",
    "            n_phi_2_2 = phi_2.copy()\n",
    "            n_phi_2_1[i] += np.pi/20\n",
    "            n_phi_2_2[i] -= np.pi/20\n",
    "            c1 = ising_circuit(phi_1, n_phi_2_1)\n",
    "            c2 = ising_circuit(phi_1, n_phi_2_2)\n",
    "            diff_2[i] = (errors(y_true, c1, h, J)-errors(y_true, c2, h, J))/(2*np.sin(np.pi/20))\n",
    "\n",
    "        for i in range(4):\n",
    "            phi_1[i] = phi_1[i] - diff_1[i] \n",
    "            phi_2[i] = phi_2[i] - diff_2[i]\n",
    "\n",
    "        c = ising_circuit(phi_1, phi_2)\n",
    "        result = expectation_energy(c, h, J)\n",
    "        m += 1\n",
    "\n",
    "    print('====================REPORT====================') \n",
    "    print('True result', y_true)\n",
    "    print('new result: ', result)\n",
    "    print('Number of iteration: ', m)\n",
    "    plt.figure(figsize=(20,10))\n",
    "    plt.bar(c.state, c.probabilities())\n",
    "    plt.xlabel('State')\n",
    "    plt.ylabel('Probability')"
   ]
  },
  {
   "cell_type": "code",
   "execution_count": 19,
   "metadata": {},
   "outputs": [
    {
     "name": "stdout",
     "output_type": "stream",
     "text": [
      "====================REPORT====================\n",
      "True result -0.9\n",
      "new result:  -0.8913130212005886\n",
      "Number of iteration:  2\n"
     ]
    },
    {
     "data": {
      "image/png": "[encoded data removed]",
      "text/plain": [
       "<Figure size 1440x720 with 1 Axes>"
      ]
     },
     "metadata": {
      "needs_background": "light"
     },
     "output_type": "display_data"
    }
   ],
   "source": [
    "ising_QDP(-0.9, h, J, 1e-2)"
   ]
  },
  {
   "cell_type": "code",
   "execution_count": 20,
   "metadata": {},
   "outputs": [
    {
     "name": "stdout",
     "output_type": "stream",
     "text": [
      "====================REPORT====================\n",
      "True result 3\n",
      "new result:  2.998546520076842\n",
      "Number of iteration:  2\n"
     ]
    },
    {
     "data": {
      "image/png": "[encoded data removed]",
      "text/plain": [
       "<Figure size 1440x720 with 1 Axes>"
      ]
     },
     "metadata": {
      "needs_background": "light"
     },
     "output_type": "display_data"
    }
   ],
   "source": [
    "ising_QDP(3, h, J, 1e-2)"
   ]
  },
  {
   "cell_type": "code",
   "execution_count": 21,
   "metadata": {},
   "outputs": [
    {
     "name": "stdout",
     "output_type": "stream",
     "text": [
      "====================REPORT====================\n",
      "True result -3.2\n",
      "new result:  -3.1900759227867947\n",
      "Number of iteration:  91\n"
     ]
    },
    {
     "data": {
      "image/png": "[encoded data removed]",
      "text/plain": [
       "<Figure size 1440x720 with 1 Axes>"
      ]
     },
     "metadata": {
      "needs_background": "light"
     },
     "output_type": "display_data"
    }
   ],
   "source": [
    "ising_QDP(-3.2, h, J, 1e-2)"
   ]
  },
  {
   "cell_type": "code",
   "execution_count": 25,
   "metadata": {},
   "outputs": [
    {
     "name": "stdout",
     "output_type": "stream",
     "text": [
      "-2.8 0000\n",
      "-0.8999999999999999 0001\n",
      "1.1 0010\n",
      "-1.0 0011\n",
      "1.0999999999999999 0100\n",
      "3.0 0101\n",
      "1.0 0110\n",
      "-1.1 0111\n",
      "-0.8999999999999999 1000\n",
      "1.0 1001\n",
      "3.0 1010\n",
      "0.8999999999999999 1011\n",
      "-1.0 1100\n",
      "0.8999999999999999 1101\n",
      "-1.0999999999999999 1110\n",
      "-3.2 1111\n"
     ]
    }
   ],
   "source": [
    "qubit_num = 4\n",
    "states = [\"\".join(seq) for seq in itertools.product(\"01\", repeat=qubit_num)]\n",
    "for state in states:\n",
    "    print(energy(state, h, J), state)"
   ]
  },
  {
   "cell_type": "code",
   "execution_count": null,
   "metadata": {},
   "outputs": [],
   "source": []
  }
 ],
 "metadata": {
  "kernelspec": {
   "display_name": "Python 3",
   "language": "python",
   "name": "python3"
  },
  "language_info": {
   "codemirror_mode": {
    "name": "ipython",
    "version": 3
   },
   "file_extension": ".py",
   "mimetype": "text/x-python",
   "name": "python",
   "nbconvert_exporter": "python",
   "pygments_lexer": "ipython3",
   "version": "3.7.6"
  }
 },
 "nbformat": 4,
 "nbformat_minor": 4
}
