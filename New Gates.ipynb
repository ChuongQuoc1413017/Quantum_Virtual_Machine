{
 "cells": [
  {
   "cell_type": "code",
   "execution_count": 1,
   "metadata": {},
   "outputs": [],
   "source": [
    "from qSUN.qCircuit import *\n",
    "# from qSUN.qGATES import *\n",
    "import time\n",
    "import numpy as np\n",
    "import cmath\n",
    "import math"
   ]
  },
  {
   "cell_type": "code",
   "execution_count": 2,
   "metadata": {},
   "outputs": [],
   "source": [
    "def isKthBitSet(i, k, n):\n",
    "    if i & (1 << (n-k-1)) == 0:\n",
    "        return True\n",
    "    else:\n",
    "        return False"
   ]
  },
  {
   "cell_type": "code",
   "execution_count": 3,
   "metadata": {},
   "outputs": [],
   "source": [
    "def Xsquare(wavefunction, n):\n",
    "    \"\"\"a square root of the NOT gate.\"\"\"\n",
    "    states = wavefunction.state\n",
    "    amplitude = wavefunction.amplitude\n",
    "    qubit_num = len(states[0])\n",
    "    new_amplitude = np.zeros(2**qubit_num, dtype = complex)\n",
    "    cut = 2**(qubit_num-n-1)\n",
    "    if n >= qubit_num or n < 0:\n",
    "        raise TypeError(\"Index is out of range\")\n",
    "    for i in np.nonzero(amplitude)[0]:\n",
    "        new_amplitude[i] += (1+1j)*amplitude[i]/2\n",
    "        if states[i][n] == '0':\n",
    "            new_amplitude[i+cut] += (1-1j)*amplitude[i]/2\n",
    "        else:\n",
    "            new_amplitude[i-cut] += (1-1j)*amplitude[i]/2  \n",
    "    wavefunction.amplitude = new_amplitude\n",
    "    (wavefunction.visual).append([n, 'XS'])"
   ]
  },
  {
   "cell_type": "code",
   "execution_count": 4,
   "metadata": {},
   "outputs": [],
   "source": [
    "def CNOT(wavefunction, control, target):\n",
    "    \"\"\"Flip target if control is |1>: \n",
    "    math:`P_0 \\otimes I + P_1 \\otimes X = \\begin{pmatrix} 1&0&0&0 \\\\ 0&1&0&0 \\\\\n",
    "                                            0&0&0&1 \\\\ 0&0&1&0 \\end{pmatrix}`\"\"\"\n",
    "    states = wavefunction.state\n",
    "    amplitude = wavefunction.amplitude\n",
    "    qubit_num = len(states[0])\n",
    "    new_amplitude = np.zeros(2**qubit_num, dtype = complex)\n",
    "    if control < target or control > target:\n",
    "        cut = 2**(qubit_num-target-1)\n",
    "    else:\n",
    "        raise TypeError(\"Control qubit and target qubit must be distinct\")\n",
    "    for i in np.nonzero(amplitude)[0]:\n",
    "        if states[i][control] == '1':\n",
    "            if states[i][target] == '0':\n",
    "                new_amplitude[i+cut] += amplitude[i]\n",
    "            else:\n",
    "                new_amplitude[i-cut] += amplitude[i]\n",
    "        else:\n",
    "            new_amplitude[i] = amplitude[i]\n",
    "    wavefunction.amplitude = new_amplitude\n",
    "    (wavefunction.visual).append([control, target, 'CX'])"
   ]
  },
  {
   "cell_type": "code",
   "execution_count": 5,
   "metadata": {},
   "outputs": [],
   "source": [
    "def H(wavefunction, n):\n",
    "    \"\"\"Hadamard gate: math:`\\frac{1}{\\sqrt{2}} \\begin{pmatrix} 1 & 1 \\\\ 1 & -1 \\end{pmatrix}`\"\"\"\n",
    "    states = wavefunction.state\n",
    "    amplitude = wavefunction.amplitude\n",
    "    qubit_num = len(states[0])\n",
    "    new_amplitude = np.zeros(2**qubit_num, dtype = complex)\n",
    "    cut = 2**(qubit_num-n-1)\n",
    "    if n >= qubit_num or n < 0:\n",
    "        raise TypeError(\"Index is out of range\")\n",
    "    for i in range(0, 2**qubit_num):\n",
    "        if states[i][n] == '0':\n",
    "            new_amplitude[i] += amplitude[i]/2**0.5\n",
    "            new_amplitude[i+cut] += amplitude[i]/2**0.5\n",
    "        else:\n",
    "            new_amplitude[i] -= amplitude[i]/2**0.5\n",
    "            new_amplitude[i-cut] += amplitude[i]/2**0.5  \n",
    "    wavefunction.amplitude = new_amplitude"
   ]
  },
  {
   "cell_type": "code",
   "execution_count": 6,
   "metadata": {},
   "outputs": [],
   "source": [
    "def H_new(wavefunction, n):\n",
    "    \"\"\"Hadamard gate: math:`\\frac{1}{\\sqrt{2}} \\begin{pmatrix} 1 & 1 \\\\ 1 & -1 \\end{pmatrix}`\"\"\"\n",
    "    states = wavefunction.state\n",
    "    amplitude = wavefunction.amplitude\n",
    "    qubit_num = len(states[0])\n",
    "    new_amplitude = np.zeros(2**qubit_num, dtype = complex)\n",
    "    n = (qubit_num-n-1)\n",
    "    if n >= qubit_num or n < 0:\n",
    "        raise TypeError(\"Index is out of range\")\n",
    "    for i in range(0, 2**(qubit_num-1)):\n",
    "        s = math.floor(i/2**n)*2**(n+1)+(i%(2**n))\n",
    "        new_amplitude[s] += amplitude[s]/2**0.5 + amplitude[s+2**n]/2**0.5\n",
    "        new_amplitude[s+2**n] += amplitude[s]/2**0.5 - amplitude[s+2**n]/2**0.5\n",
    "    wavefunction.amplitude = new_amplitude"
   ]
  },
  {
   "cell_type": "code",
   "execution_count": 7,
   "metadata": {},
   "outputs": [],
   "source": [
    "def qvm_circuit(n_qubit, depth):\n",
    "    circuit = Qubit(n_qubit)\n",
    "    for m in range(depth):\n",
    "        for i in range(n_qubit):\n",
    "            H(circuit, i)\n",
    "#             Xsquare(circuit, i)\n",
    "#         for i in range(1, n_qubit):\n",
    "#             CNOT(circuit, i, 0)\n",
    "    return circuit.probabilities()"
   ]
  },
  {
   "cell_type": "code",
   "execution_count": 8,
   "metadata": {},
   "outputs": [],
   "source": [
    "def qvm_circuit_new(n_qubit, depth):\n",
    "    circuit = Qubit(n_qubit)\n",
    "    for m in range(depth):\n",
    "        for i in range(n_qubit):\n",
    "            H_new(circuit, i)\n",
    "#             Xsquare(circuit, i)\n",
    "#         for i in range(1, n_qubit):\n",
    "#             CNOT(circuit, i, 0)\n",
    "    return circuit.probabilities()"
   ]
  },
  {
   "cell_type": "code",
   "execution_count": 9,
   "metadata": {},
   "outputs": [],
   "source": [
    "qubit_min = 2\n",
    "qubit_max = 10\n",
    "depth = 11"
   ]
  },
  {
   "cell_type": "code",
   "execution_count": 10,
   "metadata": {},
   "outputs": [],
   "source": [
    "data_qvm = []\n",
    "for n_qubit in range(qubit_min, qubit_max):\n",
    "    start = time.time()\n",
    "    qvm_circuit(n_qubit, depth)\n",
    "    data_qvm.append(time.time()-start)"
   ]
  },
  {
   "cell_type": "code",
   "execution_count": 11,
   "metadata": {},
   "outputs": [],
   "source": [
    "data_qvm_new = []\n",
    "\n",
    "for n_qubit in range(qubit_min, qubit_max):\n",
    "    start = time.time()\n",
    "    qvm_circuit_new(n_qubit, depth)\n",
    "    data_qvm_new.append(time.time()-start)"
   ]
  },
  {
   "cell_type": "code",
   "execution_count": 17,
   "metadata": {},
   "outputs": [
    {
     "data": {
      "text/html": [
       "<div>\n",
       "<style scoped>\n",
       "    .dataframe tbody tr th:only-of-type {\n",
       "        vertical-align: middle;\n",
       "    }\n",
       "\n",
       "    .dataframe tbody tr th {\n",
       "        vertical-align: top;\n",
       "    }\n",
       "\n",
       "    .dataframe thead th {\n",
       "        text-align: right;\n",
       "    }\n",
       "</style>\n",
       "<table border=\"1\" class=\"dataframe\">\n",
       "  <thead>\n",
       "    <tr style=\"text-align: right;\">\n",
       "      <th></th>\n",
       "      <th>H</th>\n",
       "      <th>New H</th>\n",
       "    </tr>\n",
       "  </thead>\n",
       "  <tbody>\n",
       "    <tr>\n",
       "      <th>2</th>\n",
       "      <td>0.000000</td>\n",
       "      <td>0.000000</td>\n",
       "    </tr>\n",
       "    <tr>\n",
       "      <th>3</th>\n",
       "      <td>0.000997</td>\n",
       "      <td>0.000997</td>\n",
       "    </tr>\n",
       "    <tr>\n",
       "      <th>4</th>\n",
       "      <td>0.000997</td>\n",
       "      <td>0.000997</td>\n",
       "    </tr>\n",
       "    <tr>\n",
       "      <th>5</th>\n",
       "      <td>0.002992</td>\n",
       "      <td>0.003989</td>\n",
       "    </tr>\n",
       "    <tr>\n",
       "      <th>6</th>\n",
       "      <td>0.007978</td>\n",
       "      <td>0.008978</td>\n",
       "    </tr>\n",
       "    <tr>\n",
       "      <th>7</th>\n",
       "      <td>0.017954</td>\n",
       "      <td>0.018948</td>\n",
       "    </tr>\n",
       "    <tr>\n",
       "      <th>8</th>\n",
       "      <td>0.038895</td>\n",
       "      <td>0.044881</td>\n",
       "    </tr>\n",
       "    <tr>\n",
       "      <th>9</th>\n",
       "      <td>0.085770</td>\n",
       "      <td>0.101727</td>\n",
       "    </tr>\n",
       "  </tbody>\n",
       "</table>\n",
       "</div>"
      ],
      "text/plain": [
       "          H     New H\n",
       "2  0.000000  0.000000\n",
       "3  0.000997  0.000997\n",
       "4  0.000997  0.000997\n",
       "5  0.002992  0.003989\n",
       "6  0.007978  0.008978\n",
       "7  0.017954  0.018948\n",
       "8  0.038895  0.044881\n",
       "9  0.085770  0.101727"
      ]
     },
     "execution_count": 17,
     "metadata": {},
     "output_type": "execute_result"
    }
   ],
   "source": [
    "import pandas as pd\n",
    "\n",
    "df = pd.DataFrame({'H': data_qvm, 'New H': data_qvm_new}, index = range(qubit_min, qubit_max))\n",
    "df"
   ]
  },
  {
   "cell_type": "code",
   "execution_count": 17,
   "metadata": {},
   "outputs": [
    {
     "name": "stdout",
     "output_type": "stream",
     "text": [
      "0 2\n",
      "1 3\n",
      "4 6\n",
      "5 7\n"
     ]
    }
   ],
   "source": [
    "N = 3\n",
    "n = 1\n",
    "n = (N-n-1)\n",
    "\n",
    "for i in range(0, 2**(N-1)):\n",
    "    s = math.floor(i/2**n)*2**(n+1)+(i%(2**n))\n",
    "    print(s, s + 2**n)"
   ]
  },
  {
   "cell_type": "code",
   "execution_count": 6,
   "metadata": {},
   "outputs": [
    {
     "name": "stdout",
     "output_type": "stream",
     "text": [
      "0 4\n",
      "1 5\n",
      "2 6\n",
      "3 7\n"
     ]
    }
   ],
   "source": [
    "n = 0\n",
    "for i in range(0, 2**N):\n",
    "    if isKthBitSet(i, n, N):\n",
    "        print(i, i+2**(N-n-1))"
   ]
  },
  {
   "cell_type": "code",
   "execution_count": 45,
   "metadata": {},
   "outputs": [
    {
     "data": {
      "text/plain": [
       "'(0.9999999999999996+0j)|000> + 0j|001> + 0j|010> + 0j|011> + 0j|100> + 0j|101> + 0j|110> + 0j|111>'"
      ]
     },
     "execution_count": 45,
     "metadata": {},
     "output_type": "execute_result"
    }
   ],
   "source": [
    "n = 3\n",
    "circuit = Qubit(n)\n",
    "\n",
    "H(circuit, 0)\n",
    "H(circuit, 1)\n",
    "H(circuit, 2)\n",
    "\n",
    "H_new(circuit, 1)\n",
    "H_new(circuit, 2)\n",
    "H_new(circuit, 0)\n",
    "\n",
    "circuit.print_state()"
   ]
  },
  {
   "cell_type": "code",
   "execution_count": 46,
   "metadata": {},
   "outputs": [
    {
     "data": {
      "text/plain": [
       "array([1., 0., 0., 0., 0., 0., 0., 0.])"
      ]
     },
     "execution_count": 46,
     "metadata": {},
     "output_type": "execute_result"
    }
   ],
   "source": [
    "circuit.probabilities()"
   ]
  },
  {
   "cell_type": "code",
   "execution_count": 47,
   "metadata": {},
   "outputs": [
    {
     "data": {
      "text/plain": [
       "'(0.9999999999999996+0j)|000> + 0j|001> + 0j|010> + 0j|011> + 0j|100> + 0j|101> + 0j|110> + 0j|111>'"
      ]
     },
     "execution_count": 47,
     "metadata": {},
     "output_type": "execute_result"
    }
   ],
   "source": [
    "n = 3\n",
    "circuit = Qubit(n)\n",
    "\n",
    "H(circuit, 0)\n",
    "H(circuit, 1)\n",
    "H(circuit, 2)\n",
    "\n",
    "H(circuit, 1)\n",
    "H(circuit, 2)\n",
    "H(circuit, 0)\n",
    "\n",
    "circuit.print_state()"
   ]
  },
  {
   "cell_type": "code",
   "execution_count": null,
   "metadata": {},
   "outputs": [],
   "source": []
  }
 ],
 "metadata": {
  "kernelspec": {
   "display_name": "Python 3",
   "language": "python",
   "name": "python3"
  },
  "language_info": {
   "codemirror_mode": {
    "name": "ipython",
    "version": 3
   },
   "file_extension": ".py",
   "mimetype": "text/x-python",
   "name": "python",
   "nbconvert_exporter": "python",
   "pygments_lexer": "ipython3",
   "version": "3.7.6"
  }
 },
 "nbformat": 4,
 "nbformat_minor": 2
}
