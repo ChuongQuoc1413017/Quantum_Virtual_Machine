{
 "cells": [
  {
   "cell_type": "code",
   "execution_count": 1,
   "metadata": {},
   "outputs": [],
   "source": [
    "from qSUN.qCircuit import *\n",
    "from qSUN.qGATES import *\n",
    "import time\n",
    "import numpy as np\n",
    "import cmath"
   ]
  },
  {
   "cell_type": "code",
   "execution_count": 509,
   "metadata": {},
   "outputs": [],
   "source": [
    "def isKthBitSet(i, k, n):\n",
    "    if i & (1 << (n-k-1)) == 0:\n",
    "        return True\n",
    "    else:\n",
    "        return False"
   ]
  },
  {
   "cell_type": "code",
   "execution_count": 510,
   "metadata": {},
   "outputs": [],
   "source": [
    "# def H(wavefunction, n):\n",
    "#     \"\"\"Hadamard gate: math:`\\frac{1}{\\sqrt{2}} \\begin{pmatrix} 1 & 1 \\\\ 1 & -1 \\end{pmatrix}`\"\"\"\n",
    "#     states = wavefunction.state\n",
    "#     amplitude = wavefunction.amplitude\n",
    "#     qubit_num = len(states[0])\n",
    "#     new_amplitude = np.zeros(2**qubit_num, dtype = complex)\n",
    "#     cut = 2**(qubit_num-n-1)\n",
    "#     if n >= qubit_num or n < 0:\n",
    "#         raise TypeError(\"Index is out of range\")\n",
    "#     for i in np.nonzero(amplitude)[0]:\n",
    "#         if states[i][n] == '0':\n",
    "#             new_amplitude[i] += amplitude[i]/2**0.5\n",
    "#             new_amplitude[i+cut] += amplitude[i]/2**0.5\n",
    "#         else:\n",
    "#             new_amplitude[i] -= amplitude[i]/2**0.5\n",
    "#             new_amplitude[i-cut] += amplitude[i]/2**0.5  \n",
    "#     wavefunction.amplitude = new_amplitude\n",
    "#     (wavefunction.visual).append([n, 'H'])"
   ]
  },
  {
   "cell_type": "code",
   "execution_count": 511,
   "metadata": {},
   "outputs": [],
   "source": [
    "def H_new(wavefunction, n):\n",
    "    \"\"\"Hadamard gate: math:`\\frac{1}{\\sqrt{2}} \\begin{pmatrix} 1 & 1 \\\\ 1 & -1 \\end{pmatrix}`\"\"\"\n",
    "    states = wavefunction.state\n",
    "    amplitude = wavefunction.amplitude\n",
    "    qubit_num = len(states[0])\n",
    "    new_amplitude = np.zeros(2**qubit_num, dtype = complex)\n",
    "    cut = 2**(qubit_num-n-1)\n",
    "    if n >= qubit_num or n < 0:\n",
    "        raise TypeError(\"Index is out of range\")\n",
    "    index = np.nonzero(amplitude)[0]\n",
    "    index = index[np.array([isKthBitSet(i, n, qubit_num) for i in index])]\n",
    "    for i in index:\n",
    "        new_amplitude[i] += amplitude[i]/2**0.5 + amplitude[i+cut]/2**0.5\n",
    "        new_amplitude[i+cut] += amplitude[i]/2**0.5 - amplitude[i+cut]/2**0.5\n",
    "    wavefunction.amplitude = new_amplitude"
   ]
  },
  {
   "cell_type": "code",
   "execution_count": 524,
   "metadata": {},
   "outputs": [],
   "source": [
    "def qvm_circuit(n_qubit, depth):\n",
    "    circuit = Qubit(n_qubit)\n",
    "    for m in range(depth):\n",
    "        for i in range(n_qubit):\n",
    "            H(circuit, i)\n",
    "            Xsquare(circuit, i)\n",
    "        for i in range(1, n_qubit):\n",
    "            CNOT(circuit, i, 0)\n",
    "    return circuit.probabilities()"
   ]
  },
  {
   "cell_type": "code",
   "execution_count": 525,
   "metadata": {},
   "outputs": [],
   "source": [
    "def qvm_circuit_new(n_qubit, depth):\n",
    "    circuit = Qubit(n_qubit)\n",
    "    for m in range(depth):\n",
    "        for i in range(n_qubit):\n",
    "            H_new(circuit, i)\n",
    "            Xsquare(circuit, i)\n",
    "        for i in range(1, n_qubit):\n",
    "            CNOT(circuit, i, 0)\n",
    "    return circuit.probabilities()"
   ]
  },
  {
   "cell_type": "code",
   "execution_count": 526,
   "metadata": {},
   "outputs": [],
   "source": [
    "n = 3\n",
    "ciruit = Qubit(n)\n",
    "H(circuit, 0)\n",
    "H(circuit, 1)\n",
    "H(circuit, 2)\n",
    "\n",
    "H_new(circuit, 0)\n",
    "H_new(circuit, 1)\n",
    "H_new(circuit, 2)"
   ]
  },
  {
   "cell_type": "code",
   "execution_count": 527,
   "metadata": {},
   "outputs": [],
   "source": [
    "qubit_min = 2\n",
    "qubit_max = 10\n",
    "depth = 11"
   ]
  },
  {
   "cell_type": "code",
   "execution_count": 531,
   "metadata": {},
   "outputs": [
    {
     "data": {
      "text/html": [
       "<div>\n",
       "<style scoped>\n",
       "    .dataframe tbody tr th:only-of-type {\n",
       "        vertical-align: middle;\n",
       "    }\n",
       "\n",
       "    .dataframe tbody tr th {\n",
       "        vertical-align: top;\n",
       "    }\n",
       "\n",
       "    .dataframe thead th {\n",
       "        text-align: right;\n",
       "    }\n",
       "</style>\n",
       "<table border=\"1\" class=\"dataframe\">\n",
       "  <thead>\n",
       "    <tr style=\"text-align: right;\">\n",
       "      <th></th>\n",
       "      <th>H</th>\n",
       "      <th>New H</th>\n",
       "    </tr>\n",
       "  </thead>\n",
       "  <tbody>\n",
       "    <tr>\n",
       "      <th>2</th>\n",
       "      <td>0.000997</td>\n",
       "      <td>0.000997</td>\n",
       "    </tr>\n",
       "    <tr>\n",
       "      <th>3</th>\n",
       "      <td>0.001995</td>\n",
       "      <td>0.000998</td>\n",
       "    </tr>\n",
       "    <tr>\n",
       "      <th>4</th>\n",
       "      <td>0.002992</td>\n",
       "      <td>0.003989</td>\n",
       "    </tr>\n",
       "    <tr>\n",
       "      <th>5</th>\n",
       "      <td>0.006982</td>\n",
       "      <td>0.007983</td>\n",
       "    </tr>\n",
       "    <tr>\n",
       "      <th>6</th>\n",
       "      <td>0.013962</td>\n",
       "      <td>0.019708</td>\n",
       "    </tr>\n",
       "    <tr>\n",
       "      <th>7</th>\n",
       "      <td>0.030918</td>\n",
       "      <td>0.036901</td>\n",
       "    </tr>\n",
       "    <tr>\n",
       "      <th>8</th>\n",
       "      <td>0.059841</td>\n",
       "      <td>0.082778</td>\n",
       "    </tr>\n",
       "    <tr>\n",
       "      <th>9</th>\n",
       "      <td>0.139767</td>\n",
       "      <td>0.185505</td>\n",
       "    </tr>\n",
       "  </tbody>\n",
       "</table>\n",
       "</div>"
      ],
      "text/plain": [
       "          H     New H\n",
       "2  0.000997  0.000997\n",
       "3  0.001995  0.000998\n",
       "4  0.002992  0.003989\n",
       "5  0.006982  0.007983\n",
       "6  0.013962  0.019708\n",
       "7  0.030918  0.036901\n",
       "8  0.059841  0.082778\n",
       "9  0.139767  0.185505"
      ]
     },
     "execution_count": 531,
     "metadata": {},
     "output_type": "execute_result"
    }
   ],
   "source": [
    "import pandas as pd\n",
    "\n",
    "df = pd.DataFrame({'H': data_qvm, 'New H': data_qvm_new}, index = range(qubit_min, qubit_max))\n",
    "df"
   ]
  },
  {
   "cell_type": "code",
   "execution_count": null,
   "metadata": {},
   "outputs": [],
   "source": []
  }
 ],
 "metadata": {
  "kernelspec": {
   "display_name": "Python 3",
   "language": "python",
   "name": "python3"
  },
  "language_info": {
   "codemirror_mode": {
    "name": "ipython",
    "version": 3
   },
   "file_extension": ".py",
   "mimetype": "text/x-python",
   "name": "python",
   "nbconvert_exporter": "python",
   "pygments_lexer": "ipython3",
   "version": "3.7.6"
  }
 },
 "nbformat": 4,
 "nbformat_minor": 2
}
