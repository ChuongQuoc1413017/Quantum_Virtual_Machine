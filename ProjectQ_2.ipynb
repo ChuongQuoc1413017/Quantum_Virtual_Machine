{
 "cells": [
  {
   "cell_type": "code",
   "execution_count": 1,
   "metadata": {},
   "outputs": [],
   "source": [
    "import pennylane as qml\n",
    "from pennylane import numpy as np\n",
    "from Qsun.Qcircuit import *\n",
    "from Qsun.Qgates import *\n",
    "import time"
   ]
  },
  {
   "cell_type": "markdown",
   "metadata": {},
   "source": [
    "# Quantum Machine Learning"
   ]
  },
  {
   "cell_type": "code",
   "execution_count": 2,
   "metadata": {},
   "outputs": [],
   "source": [
    "import matplotlib.pyplot as plt\n",
    "# import numpy as np\n",
    "from sklearn import datasets, linear_model\n",
    "from sklearn.metrics import mean_squared_error, r2_score"
   ]
  },
  {
   "cell_type": "code",
   "execution_count": 3,
   "metadata": {},
   "outputs": [],
   "source": [
    "X, y = datasets.load_diabetes(return_X_y=True)"
   ]
  },
  {
   "cell_type": "code",
   "execution_count": 4,
   "metadata": {},
   "outputs": [],
   "source": [
    "X, y = datasets.load_diabetes(return_X_y=True)\n",
    "y = (y - np.min(y)) / (np.max(y) - np.min(y))\n",
    "# Use only one feature\n",
    "X = X[:, np.newaxis, 2]\n",
    "\n",
    "# Split the data into training/testing sets\n",
    "X_train = X[:400]\n",
    "X_test = X[-10:]\n",
    "\n",
    "# Split the targets into training/testing sets\n",
    "y_train = y[:400]\n",
    "y_test = y[-10:]"
   ]
  },
  {
   "cell_type": "code",
   "execution_count": 5,
   "metadata": {},
   "outputs": [],
   "source": [
    "feature_matrix = np.hstack((X_train, np.ones((len(X_train), 1))))"
   ]
  },
  {
   "cell_type": "code",
   "execution_count": 6,
   "metadata": {},
   "outputs": [
    {
     "data": {
      "text/plain": [
       "array([2.97726802, 0.39875447])"
      ]
     },
     "execution_count": 6,
     "metadata": {},
     "output_type": "execute_result"
    }
   ],
   "source": [
    "theta = np.dot(feature_matrix.T, feature_matrix)\n",
    "theta = np.linalg.inv(theta)\n",
    "theta = np.dot(theta, feature_matrix.T)\n",
    "theta = np.dot(theta, y_train)\n",
    "theta"
   ]
  },
  {
   "cell_type": "code",
   "execution_count": 7,
   "metadata": {},
   "outputs": [],
   "source": [
    "test_matrix = np.hstack((X_test, np.ones((len(X_test), 1))))"
   ]
  },
  {
   "cell_type": "code",
   "execution_count": 8,
   "metadata": {},
   "outputs": [],
   "source": [
    "y_pred_exact = np.dot(test_matrix, theta)"
   ]
  },
  {
   "cell_type": "markdown",
   "metadata": {},
   "source": [
    "## Classic"
   ]
  },
  {
   "cell_type": "code",
   "execution_count": 9,
   "metadata": {},
   "outputs": [
    {
     "name": "stdout",
     "output_type": "stream",
     "text": [
      "Coefficients: \n",
      " [2.97726802]\n",
      "Intercept: \n",
      " 0.3987544671550144\n",
      "Mean squared error: 0.02\n",
      "Coefficient of determination: 0.40\n"
     ]
    }
   ],
   "source": [
    "# Create linear regression object\n",
    "regr = linear_model.LinearRegression()\n",
    "\n",
    "# Train the model using the training sets\n",
    "regr.fit(X_train, y_train)\n",
    "\n",
    "# Make predictions using the testing set\n",
    "y_pred = regr.predict(X_test)\n",
    "\n",
    "# The coefficients\n",
    "print('Coefficients: \\n', regr.coef_)\n",
    "print('Intercept: \\n', regr.intercept_)\n",
    "# The mean squared error\n",
    "print('Mean squared error: %.2f'\n",
    "      % mean_squared_error(y_test, y_pred))\n",
    "# The coefficient of determination: 1 is perfect prediction\n",
    "print('Coefficient of determination: %.2f'\n",
    "      % r2_score(y_test, y_pred))"
   ]
  },
  {
   "cell_type": "code",
   "execution_count": 10,
   "metadata": {},
   "outputs": [
    {
     "data": {
      "text/plain": [
       "0.020474527452362327"
      ]
     },
     "execution_count": 10,
     "metadata": {},
     "output_type": "execute_result"
    }
   ],
   "source": [
    "mean_squared_error(y_test, y_pred)"
   ]
  },
  {
   "cell_type": "markdown",
   "metadata": {},
   "source": [
    "## QVM"
   ]
  },
  {
   "cell_type": "code",
   "execution_count": 15,
   "metadata": {},
   "outputs": [],
   "source": [
    "from Qsun.Qcircuit import *\n",
    "from Qsun.Qgates import *\n",
    "from Qsun.Qmeas import *"
   ]
  },
  {
   "cell_type": "code",
   "execution_count": 16,
   "metadata": {},
   "outputs": [],
   "source": [
    "def circuit(params):\n",
    "    c = Qubit(1)\n",
    "    RX(c, 0, params[0])\n",
    "    RY(c, 0, params[1])\n",
    "    return c\n",
    "\n",
    "def output(params):\n",
    "    c = circuit(params)\n",
    "    prob = c.probabilities()\n",
    "#     measure_output =  measure_all(c, 10000)[1]\n",
    "#     prob = measure_output/sum(measure_output)\n",
    "    return 1*prob[0] - 1*prob[1]\n",
    "\n",
    "def predict(x_true, coef_params, intercept_params, boundary=10):\n",
    "    coef = boundary*output(coef_params)\n",
    "    intercept = boundary*output(intercept_params)\n",
    "    return coef*x_true.flatten() + intercept\n",
    "\n",
    "def errors(x_true, y_true, coef_params, intercept_params, boundary):\n",
    "    return mean_squared_error(y_true, predict(x_true, coef_params, intercept_params, boundary))\n",
    "\n",
    "def grad(x_true, y_true, coef_params, intercept_params, shift, eta, boundary):\n",
    "    \n",
    "    coef_diff = np.zeros((2,))\n",
    "    intercept_diff = np.zeros((2,))\n",
    "    \n",
    "    for i in range(len(coef_params)):\n",
    "        coef_params_1 = coef_params.copy()\n",
    "        coef_params_2 = coef_params.copy()\n",
    "        coef_params_1[i] += shift\n",
    "        coef_params_2[i] -= shift\n",
    "        for x, y in zip(x_true, y_true):\n",
    "            coef_diff[i] -= x*(y-predict(x, coef_params, intercept_params, boundary))*(output(coef_params_1)-output(coef_params_2))/(2*np.sin(shift))\n",
    "            \n",
    "        \n",
    "    for i in range(len(coef_params)):\n",
    "        intercept_params_1 = intercept_params.copy()\n",
    "        intercept_params_2 = intercept_params.copy()\n",
    "        intercept_params_1[i] += shift\n",
    "        intercept_params_2[i] -= shift\n",
    "        for x, y in zip(x_true, y_true):\n",
    "            intercept_diff[i] -= (y-predict(x, coef_params, intercept_params, boundary))*(output(intercept_params_1)-output(intercept_params_2))/(2*np.sin(shift))\n",
    "     \n",
    "    coef_diff = coef_diff*boundary*2/len(y_true)\n",
    "    intercept_diff = intercept_diff*boundary*2/len(y_true)\n",
    "    \n",
    "    for i in range(len(coef_params)):\n",
    "        coef_params[i] = coef_params[i] - eta*coef_diff[i]\n",
    "        \n",
    "    for i in range(len(intercept_params)):\n",
    "        intercept_params[i] = intercept_params[i] - eta*intercept_diff[i]\n",
    "        \n",
    "    return coef_params, intercept_params"
   ]
  },
  {
   "cell_type": "code",
   "execution_count": 17,
   "metadata": {},
   "outputs": [],
   "source": [
    "# # before training\n",
    "coef_params = np.array([-1.03295171, -0.64020581])\n",
    "intercept_params = np.array([ 0.84085179, -0.5721947 ])"
   ]
  },
  {
   "cell_type": "code",
   "execution_count": 18,
   "metadata": {},
   "outputs": [],
   "source": [
    "start = time.time()\n",
    "costs_train_qlr = []\n",
    "costs_test_qlr = []\n",
    "for i in range(1000):\n",
    "    coef_params, intercept_params = grad(X_train, y_train, coef_params, intercept_params, np.pi/20, eta=0.1, boundary=10)\n",
    "#     costs_train_qlr.append(errors(X_train, y_train, coef_params, intercept_params, boundary))\n",
    "#     costs_test_qlr.append(errors(X_test, y_test, coef_params, intercept_params, boundary))\n",
    "end = time.time()  "
   ]
  },
  {
   "cell_type": "markdown",
   "metadata": {},
   "source": [
    "## Pennylane"
   ]
  },
  {
   "cell_type": "code",
   "execution_count": 19,
   "metadata": {},
   "outputs": [],
   "source": [
    "import autograd.numpy as np_grad"
   ]
  },
  {
   "cell_type": "code",
   "execution_count": 20,
   "metadata": {},
   "outputs": [],
   "source": [
    "dev = qml.device('default.qubit', wires=2)\n",
    "\n",
    "@qml.qnode(dev)\n",
    "def circuit_qml(params):\n",
    "    qml.RX(params[0], wires=0)\n",
    "    qml.RY(params[1], wires=0)\n",
    "    qml.RX(params[2], wires=1)\n",
    "    qml.RY(params[3], wires=1)\n",
    "    return qml.expval(qml.PauliZ(0)), qml.expval(qml.PauliZ(1))\n",
    "\n",
    "def cost(params):\n",
    "    expval = circuit_qml(params)\n",
    "    coef = boundary*expval[0]\n",
    "    intercept = boundary*expval[1]\n",
    "    y_pred_qml = coef*X_train.flatten() + intercept\n",
    "    return np_grad.mean((y_train-y_pred_qml)**2)"
   ]
  },
  {
   "cell_type": "code",
   "execution_count": 21,
   "metadata": {},
   "outputs": [],
   "source": [
    "boundary = 10\n",
    "params = np.random.normal(size=(4,))\n",
    "opt = qml.GradientDescentOptimizer()\n",
    "steps = 1000"
   ]
  },
  {
   "cell_type": "code",
   "execution_count": 22,
   "metadata": {},
   "outputs": [
    {
     "data": {
      "text/plain": [
       "tensor(38.89865284, requires_grad=True)"
      ]
     },
     "execution_count": 22,
     "metadata": {},
     "output_type": "execute_result"
    }
   ],
   "source": [
    "params = np.random.normal(size=(4,))\n",
    "cost(params)"
   ]
  },
  {
   "cell_type": "code",
   "execution_count": 23,
   "metadata": {},
   "outputs": [],
   "source": [
    "start = time.time()\n",
    "for i in range(steps):\n",
    "    params = opt.step(cost, params)   \n",
    "end = time.time()"
   ]
  },
  {
   "cell_type": "code",
   "execution_count": 24,
   "metadata": {},
   "outputs": [],
   "source": [
    "expval = circuit_qml(params)\n",
    "coef = boundary*expval[0]\n",
    "intercept = boundary*expval[1]\n",
    "y_pred_qml = coef*X_test.flatten() + intercept"
   ]
  },
  {
   "cell_type": "markdown",
   "metadata": {},
   "source": [
    "## ProjectQ"
   ]
  },
  {
   "cell_type": "code",
   "execution_count": 11,
   "metadata": {},
   "outputs": [],
   "source": [
    "from projectq import MainEngine\n",
    "import projectq.ops as ops\n",
    "from projectq.backends import Simulator\n",
    "import itertools"
   ]
  },
  {
   "cell_type": "code",
   "execution_count": 12,
   "metadata": {},
   "outputs": [],
   "source": [
    "def circuit(params):\n",
    "    \n",
    "    eng = MainEngine(backend=Simulator(gate_fusion=True),engine_list=[])\n",
    "    qbits = eng.allocate_qureg(1)\n",
    "    \n",
    "    ops.Rx(params[0]) | qbits[0]\n",
    "    ops.Ry(params[1]) | qbits[0]\n",
    "    \n",
    "    strings = [\"\".join(seq) for seq in itertools.product(\"01\", repeat=1)]\n",
    "    probs = np.array([eng.backend.get_probability(i, qbits) for i in strings])\n",
    "    \n",
    "    ops.All(ops.Measure)|qbits\n",
    "    eng.flush()\n",
    "    \n",
    "    return probs\n",
    "\n",
    "def output(params):\n",
    "    prob = circuit(params)\n",
    "#     measure_output =  measure_all(c, 10000)[1]\n",
    "#     prob = measure_output/sum(measure_output)\n",
    "    return 1*prob[0] - 1*prob[1]\n",
    "\n",
    "def predict(x_true, coef_params, intercept_params, boundary=10):\n",
    "    coef = boundary*output(coef_params)\n",
    "    intercept = boundary*output(intercept_params)\n",
    "    return coef*x_true.flatten() + intercept\n",
    "\n",
    "def errors(x_true, y_true, coef_params, intercept_params, boundary):\n",
    "    return mean_squared_error(y_true, predict(x_true, coef_params, intercept_params, boundary))\n",
    "\n",
    "def grad(x_true, y_true, coef_params, intercept_params, shift, eta, boundary):\n",
    "    \n",
    "    coef_diff = np.zeros((2,))\n",
    "    intercept_diff = np.zeros((2,))\n",
    "    \n",
    "    for i in range(len(coef_params)):\n",
    "        coef_params_1 = coef_params.copy()\n",
    "        coef_params_2 = coef_params.copy()\n",
    "        coef_params_1[i] += shift\n",
    "        coef_params_2[i] -= shift\n",
    "        for x, y in zip(x_true, y_true):\n",
    "            coef_diff[i] -= x*(y-predict(x, coef_params, intercept_params, boundary))*(output(coef_params_1)-output(coef_params_2))/(2*np.sin(shift))\n",
    "            \n",
    "        \n",
    "    for i in range(len(coef_params)):\n",
    "        intercept_params_1 = intercept_params.copy()\n",
    "        intercept_params_2 = intercept_params.copy()\n",
    "        intercept_params_1[i] += shift\n",
    "        intercept_params_2[i] -= shift\n",
    "        for x, y in zip(x_true, y_true):\n",
    "            intercept_diff[i] -= (y-predict(x, coef_params, intercept_params, boundary))*(output(intercept_params_1)-output(intercept_params_2))/(2*np.sin(shift))\n",
    "     \n",
    "    coef_diff = coef_diff*boundary*2/len(y_true)\n",
    "    intercept_diff = intercept_diff*boundary*2/len(y_true)\n",
    "    \n",
    "    for i in range(len(coef_params)):\n",
    "        coef_params[i] = coef_params[i] - eta*coef_diff[i]\n",
    "        \n",
    "    for i in range(len(intercept_params)):\n",
    "        intercept_params[i] = intercept_params[i] - eta*intercept_diff[i]\n",
    "        \n",
    "    return coef_params, intercept_params"
   ]
  },
  {
   "cell_type": "code",
   "execution_count": 13,
   "metadata": {},
   "outputs": [],
   "source": [
    "# # before training\n",
    "coef_params_projectq = np.random.normal(size=(2,))\n",
    "intercept_params_projectq = np.random.normal(size=(2,))"
   ]
  },
  {
   "cell_type": "code",
   "execution_count": 1,
   "metadata": {
    "scrolled": true
   },
   "outputs": [],
   "source": [
    "start = time.time()\n",
    "for i in range(1000):\n",
    "    coef_params_projectq, intercept_params_projectq = grad(X_train, y_train, coef_params_projectq, intercept_params_projectq, np.pi/20, eta=0.1, boundary=10)\n",
    "#     costs_train_qlr.append(errors(X_train, y_train, coef_params, intercept_params, boundary))\n",
    "#     costs_test_qlr.append(errors(X_test, y_test, coef_params, intercept_params, boundary))\n",
    "    print(i)\n",
    "end = time.time()  "
   ]
  },
  {
   "cell_type": "code",
   "execution_count": null,
   "metadata": {},
   "outputs": [],
   "source": []
  },
  {
   "cell_type": "code",
   "execution_count": null,
   "metadata": {},
   "outputs": [],
   "source": []
  },
  {
   "cell_type": "code",
   "execution_count": null,
   "metadata": {},
   "outputs": [],
   "source": []
  },
  {
   "cell_type": "code",
   "execution_count": 25,
   "metadata": {},
   "outputs": [],
   "source": [
    "# https://stackoverflow.com/questions/3899980/how-to-change-the-font-size-on-a-matplotlib-plot\n",
    "SIZE = 34*1.3\n",
    "\n",
    "plt.rc('font', size=SIZE)          # controls default text sizes\n",
    "plt.rc('axes', titlesize=SIZE)     # fontsize of the axes title\n",
    "plt.rc('axes', labelsize=SIZE)    # fontsize of the x and y labels\n",
    "plt.rc('xtick', labelsize=SIZE)    # fontsize of the tick labels\n",
    "plt.rc('ytick', labelsize=SIZE)    # fontsize of the tick labels\n",
    "plt.rc('legend', fontsize=SIZE)    # legend fontsize\n",
    "plt.rc('figure', titlesize=SIZE)  # fontsize of the figure title"
   ]
  },
  {
   "cell_type": "code",
   "execution_count": 32,
   "metadata": {},
   "outputs": [
    {
     "name": "stderr",
     "output_type": "stream",
     "text": [
      "WARNING:matplotlib.backends.backend_ps:The PostScript backend does not support transparency; partially transparent artists will be rendered opaque.\n",
      "WARNING:matplotlib.backends.backend_ps:The PostScript backend does not support transparency; partially transparent artists will be rendered opaque.\n"
     ]
    },
    {
     "data": {
      "image/png": "[encoded data removed]",
      "text/plain": [
       "<Figure size 1440x959.76 with 1 Axes>"
      ]
     },
     "metadata": {
      "needs_background": "light"
     },
     "output_type": "display_data"
    }
   ],
   "source": [
    "plt.figure(figsize=(20,13.33))\n",
    "plt.scatter(X_test, y_test, s=440, color='black', )\n",
    "plt.plot(X_test, predict(X_test, coef_params, intercept_params, boundary=10), linewidth=4, label='qSUN')\n",
    "plt.plot(X_test, predict(X_test, coef_params_projectq, intercept_params_projectq, boundary=10), linewidth=4, label='ProjectQ')\n",
    "plt.plot(X_test, y_pred_qml, linewidth=4, label='Pennylane')\n",
    "plt.plot(X_test, y_pred_exact, linewidth=4, label='Analytical Solution', color='purple')\n",
    "# plt.plot(X_test, predict(X_test, coef_params, intercept_params, boundary=10), 'o--', linewidth=4, markersize=24, label='qSUN')\n",
    "# plt.plot(X_test, y_pred_qml, 'v--', linewidth=4, markersize=24, label='Pennylane')\n",
    "# plt.plot(X_test, y_pred, 'd--', linewidth=4, markersize=24, label='scikit-learn', color='purple')\n",
    "plt.tick_params(axis=\"x\", which = 'major', direction=\"in\", length=16, width=4)\n",
    "plt.tick_params(axis=\"y\", which = 'major', direction=\"in\", length=16, width=4)\n",
    "plt.tick_params(axis=\"y\", which = 'minor', direction=\"in\", length=8, width=4)\n",
    "plt.xlabel('x')\n",
    "plt.ylabel('f(x)')\n",
    "plt.legend()\n",
    "plt.savefig('compare_linear_regression_projectq.png')\n",
    "plt.savefig('compare_linear_regression_projectq.eps', format='eps')"
   ]
  },
  {
   "cell_type": "code",
   "execution_count": null,
   "metadata": {},
   "outputs": [],
   "source": []
  }
 ],
 "metadata": {
  "kernelspec": {
   "display_name": "Python 3",
   "language": "python",
   "name": "python3"
  },
  "language_info": {
   "codemirror_mode": {
    "name": "ipython",
    "version": 3
   },
   "file_extension": ".py",
   "mimetype": "text/x-python",
   "name": "python",
   "nbconvert_exporter": "python",
   "pygments_lexer": "ipython3",
   "version": "3.7.6"
  }
 },
 "nbformat": 4,
 "nbformat_minor": 4
}
